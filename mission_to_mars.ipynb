{
 "metadata": {
  "language_info": {
   "codemirror_mode": {
    "name": "ipython",
    "version": 3
   },
   "file_extension": ".py",
   "mimetype": "text/x-python",
   "name": "python",
   "nbconvert_exporter": "python",
   "pygments_lexer": "ipython3",
   "version": "3.6.10-final"
  },
  "orig_nbformat": 2,
  "kernelspec": {
   "name": "python_defaultSpec_1598157294043",
   "display_name": "Python 3.6.10 64-bit ('PythonData': conda)"
  }
 },
 "nbformat": 4,
 "nbformat_minor": 2,
 "cells": [
  {
   "cell_type": "code",
   "execution_count": 1,
   "metadata": {},
   "outputs": [],
   "source": [
    "#dependencies\n",
    "#------------\n",
    "from bs4 import BeautifulSoup as bs\n",
    "import pymongo\n",
    "import requests as r\n",
    "from splinter import Browser\n",
    "from splinter.exceptions import ElementDoesNotExist\n",
    "import pandas as pd"
   ]
  },
  {
   "cell_type": "code",
   "execution_count": 2,
   "metadata": {},
   "outputs": [],
   "source": [
    "#initiate splinter/browser\n",
    "#-------------------------\n",
    "executable_path = {'executable_path': 'chromedriver.exe'}\n",
    "browser = Browser('chrome', **executable_path, headless=False)"
   ]
  },
  {
   "cell_type": "code",
   "execution_count": 3,
   "metadata": {
    "tags": []
   },
   "outputs": [],
   "source": [
    "#step 1 - NASA article scraping\n",
    "#------------------------------\n",
    "nasa_site = 'https://mars.nasa.gov/news/?page=0&per_page=40&order=publish_date+desc%2Ccreated_at+desc&search=&category=19%2C165%2C184%2C204&blank_scope=Latest'\n",
    "response = r.get(nasa_site)\n",
    "soup = bs(response.text, 'html.parser')\n",
    "articles = soup.find_all('div', class_='slide')\n",
    "titles = []\n",
    "paragraphs = []\n",
    "\n",
    "for article in articles:\n",
    "    title = article.find('div', class_='content_title').text\n",
    "    titles.append(title)\n",
    "    paragraph = article.find('div', class_='rollover_description_inner').text\n",
    "    paragraphs.append(paragraph)\n",
    "#return items\n",
    "news_title = titles[0]\n",
    "news_p = paragraphs[0]"
   ]
  },
  {
   "cell_type": "code",
   "execution_count": 4,
   "metadata": {
    "tags": []
   },
   "outputs": [],
   "source": [
    "#step 2 - JPL image scraping\n",
    "#---------------------------\n",
    "jpl_link = 'https://www.jpl.nasa.gov/spaceimages/?search=&category=Mars'\n",
    "browser.visit(jpl_link)\n",
    "html = browser.html\n",
    "soup = bs(html, 'html.parser')\n",
    "button = soup.find('a', class_='button fancybox')\n",
    "feature_link = button.attrs['data-fancybox-href']\n",
    "#return item\n",
    "featured_image_url = f'https://www.jpl.nasa.gov{feature_link}'"
   ]
  },
  {
   "cell_type": "code",
   "execution_count": 18,
   "metadata": {
    "tags": []
   },
   "outputs": [
    {
     "output_type": "execute_result",
     "data": {
      "text/plain": "                                               Mars\nMetric                                             \nEquatorial Diameter:                       6,792 km\nPolar Diameter:                            6,752 km\nMass:                 6.39 × 10^23 kg (0.11 Earths)\nMoons:                          2 (Phobos & Deimos)\nOrbit Distance:            227,943,824 km (1.38 AU)",
      "text/html": "<div>\n<style scoped>\n    .dataframe tbody tr th:only-of-type {\n        vertical-align: middle;\n    }\n\n    .dataframe tbody tr th {\n        vertical-align: top;\n    }\n\n    .dataframe thead th {\n        text-align: right;\n    }\n</style>\n<table border=\"1\" class=\"dataframe\">\n  <thead>\n    <tr style=\"text-align: right;\">\n      <th></th>\n      <th>Mars</th>\n    </tr>\n    <tr>\n      <th>Metric</th>\n      <th></th>\n    </tr>\n  </thead>\n  <tbody>\n    <tr>\n      <th>Equatorial Diameter:</th>\n      <td>6,792 km</td>\n    </tr>\n    <tr>\n      <th>Polar Diameter:</th>\n      <td>6,752 km</td>\n    </tr>\n    <tr>\n      <th>Mass:</th>\n      <td>6.39 × 10^23 kg (0.11 Earths)</td>\n    </tr>\n    <tr>\n      <th>Moons:</th>\n      <td>2 (Phobos &amp; Deimos)</td>\n    </tr>\n    <tr>\n      <th>Orbit Distance:</th>\n      <td>227,943,824 km (1.38 AU)</td>\n    </tr>\n  </tbody>\n</table>\n</div>"
     },
     "metadata": {},
     "execution_count": 18
    }
   ],
   "source": [
    "#step 3 - mars facts scraping\n",
    "#----------------------------\n",
    "mars_facts = 'https://space-facts.com/mars/'\n",
    "tables = pd.read_html(mars_facts)\n",
    "mars_facts = tables[0].rename(columns={\n",
    "    0: 'Metric',\n",
    "    1: 'Mars'\n",
    "})\n",
    "mars_facts.set_index('Metric', inplace=True)\n",
    "#return items\n",
    "mars_planet_profile_html = tables[0].to_html()"
   ]
  },
  {
   "cell_type": "code",
   "execution_count": 37,
   "metadata": {
    "tags": []
   },
   "outputs": [],
   "source": [
    "#step 4 - hemisphere image scraping\n",
    "#----------------------------------\n",
    "hemisphere_url = 'https://astrogeology.usgs.gov/search/results?q=hemisphere+enhanced&k1=target&v1=Mars'\n",
    "browser.visit(hemisphere_url)\n",
    "html = browser.html\n",
    "soup = bs(html, 'lxml')\n",
    "hemispheres = soup.find_all('div', class_='item')\n",
    "\n",
    "#return item\n",
    "hemisphere_image_urls = []\n",
    "\n",
    "for hem in hemispheres:\n",
    "    desc = hem.find('div', class_='description')\n",
    "    \n",
    "    path = desc.a['href']\n",
    "    title = desc.h3.text\n",
    "    url = f'https://astrogeology.usgs.gov{path}'\n",
    "    \n",
    "    browser.visit(url)\n",
    "    html = browser.html\n",
    "    soup = bs(html, 'lxml')\n",
    "\n",
    "    results = soup.find('div', class_='downloads')\n",
    "    link = results.find('a')\n",
    "    img_url = link['href']    \n",
    "\n",
    "    #append dictionary of title and url to image url list\n",
    "    hemisphere_image_urls.append({\n",
    "        'title': title,\n",
    "        'img_url': img_url\n",
    "    })"
   ]
  }
 ]
}